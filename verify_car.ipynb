{
 "cells": [
  {
   "cell_type": "code",
   "execution_count": null,
   "id": "b51169e4",
   "metadata": {},
   "outputs": [],
   "source": [
    "using Revise\n",
    "using LazySets\n",
    "using DifferentialEquations\n",
    "using LazySets\n",
    "using ProgressMeter\n",
    "using ProgressBars\n",
    "using JLD2\n",
    "using Flux\n",
    "using LinearAlgebra\n",
    "using ReverseDiff\n",
    "using Plots\n",
    "using Statistics\n",
    "using Optimisers, ParameterSchedulers\n",
    "using ModelVerification\n",
    "using ONNXNaiveNASflux, NaiveNASflux, .NaiveNASlib\n"
   ]
  },
  {
   "cell_type": "code",
   "execution_count": null,
   "id": "69e85533",
   "metadata": {},
   "outputs": [],
   "source": [
    "using CUDA\n",
    "\n",
    "# Check if GPU is available\n",
    "if CUDA.functional()\n",
    "    device!(3)\n",
    "    CUDA.allowscalar(false)  # Disallow scalar operations on the GPU (optional)\n",
    "else\n",
    "    println(\"GPU is not available. Using CPU.\")\n",
    "end"
   ]
  },
  {
   "cell_type": "code",
   "execution_count": 2,
   "id": "74b12426",
   "metadata": {},
   "outputs": [
    {
     "data": {
      "text/plain": [
       "Hyperrectangle{Float64, Vector{Float64}, Vector{Float64}}([2.0, 1.0, 1.5707963267948966], [0.5, 1.0, 1.5707963267948966])"
      ]
     },
     "execution_count": 2,
     "metadata": {},
     "output_type": "execute_result"
    }
   ],
   "source": [
    "include(\"affine_dynamics.jl\")\n",
    "include(\"dataset.jl\")\n",
    "X = Hyperrectangle(low = [0, 0, 0], high = [4,4, π])\n",
    "U = Hyperrectangle(low = [-1, -1], high = [1,1])\n",
    "X_unsafe = Hyperrectangle(low = [1.5, 0,0], high = [2.5,2, π])\n"
   ]
  },
  {
   "cell_type": "code",
   "execution_count": 3,
   "id": "439f5cf0",
   "metadata": {},
   "outputs": [
    {
     "data": {
      "text/plain": [
       "find_bounds (generic function with 1 method)"
      ]
     },
     "execution_count": 3,
     "metadata": {},
     "output_type": "execute_result"
    }
   ],
   "source": [
    "using TaylorModels\n",
    "import RobotDynamics\n",
    "\n",
    "myTaylorModelN(nv::Integer, ord::Integer, x0::IntervalBox{N,T}, dom::IntervalBox{N,T},vars::Vector) where {N,T} =\n",
    "    TaylorModelN(x0[nv] + vars[nv], zero(dom[1]), x0, dom)\n",
    "function taylor_model(center, radius, model, u)\n",
    "    _dim = length(center)\n",
    "\n",
    "    point = IntervalBox([interval(center[i]) for i in 1:_dim])\n",
    "    region = IntervalBox([(center[i].-radius[i])..(center[i].+radius[i]) for i in 1:_dim])\n",
    "    var = set_variables(\"x\", numvars=_dim, order=2)\n",
    "    taylor_var = [myTaylorModelN(i,1, point,region,var) for i in 1:_dim]\n",
    "    taylor_var = [TaylorModels.TaylorModelN(i,1, point,region) for i in 1:_dim]\n",
    "    dyn_x = RobotDynamics.dynamics(model, taylor_var, u)\n",
    "    \n",
    "    lower_w = zeros(_dim, _dim)\n",
    "    upper_w = zeros(_dim, _dim)\n",
    "    lower_b = zeros(_dim,1)\n",
    "    upper_b = zeros(_dim,1)\n",
    "    for i in 1:_dim\n",
    "        \n",
    "        if isa(dyn_x[i], TaylorModelN)\n",
    "            for j in 1:_dim\n",
    "                lower_w[i, j] = inf(polynomial(dyn_x[i])[1][j])\n",
    "                upper_w[i, j] = sup(polynomial(dyn_x[i])[1][j])\n",
    "            end\n",
    "            lower_b[i, 1] = inf(polynomial(dyn_x[i])[0][1]) + inf(remainder(dyn_x[i])) - sum([lower_w[i, j] .* center[j] for j in 1:_dim])\n",
    "            upper_b[i, 1] = sup(polynomial(dyn_x[i])[0][1]) + sup(remainder(dyn_x[i])) - sum([upper_w[i, j] .* center[j] for j in 1:_dim])\n",
    "            \n",
    "        else\n",
    "            \n",
    "            lower_b[i, 1] = dyn_x[i]\n",
    "            upper_b[i, 1] = dyn_x[i]\n",
    "        end      \n",
    "    end\n",
    "    return lower_w, upper_w, lower_b, upper_b\n",
    "end\n",
    "\n",
    "function find_bounds(w, b, lower_x, upper_x)\n",
    "    lower_x = reshape(lower_x, size(b))\n",
    "    upper_x = reshape(upper_x, size(b))\n",
    "    low = clamp.(w, 0, Inf) * lower_x + clamp.(w, -Inf, 0) * upper_x + b\n",
    "    up = clamp.(w, 0, Inf) * upper_x + clamp.(w, -Inf, 0) * lower_x + b\n",
    "    return low, up\n",
    "end"
   ]
  },
  {
   "cell_type": "code",
   "execution_count": 6,
   "id": "a59f9db0-68aa-4bda-8689-eeb6feee0924",
   "metadata": {},
   "outputs": [
    {
     "name": "stdout",
     "output_type": "stream",
     "text": [
      "length(root_region_list) = 520\n"
     ]
    },
    {
     "name": "stderr",
     "output_type": "stream",
     "text": [
      "\u001b[32mProgress: 100%|█████████████████████████████████████████| Time: 0:01:15\u001b[39m\n"
     ]
    },
    {
     "name": "stdout",
     "output_type": "stream",
     "text": [
      "length(violated_unknown_region_list) = 215\n",
      "suc_rate = (length(root_region_list) - length(violated_unknown_region_list)) / length(root_region_list) = 0.5865384615384616\n"
     ]
    },
    {
     "data": {
      "text/plain": [
       "0.5865384615384616"
      ]
     },
     "execution_count": 6,
     "metadata": {},
     "output_type": "execute_result"
    }
   ],
   "source": [
    "# For BBV baseline\n",
    "include(\"affine_dynamics.jl\")\n",
    "include(\"dataset.jl\")\n",
    "include(\"visualize.jl\")\n",
    "\n",
    "\n",
    "model_state = JLD2.load(\"car_naive_model_1_0_0.1_pgd_relu_20.jld2\", \"model_state\");\n",
    "# model_state = JLD2.load(\"car_naive_small_model_1_0_1_pgd_relu_20.jld2\", \"model_state\");\n",
    "# model_state = JLD2.load(\"car_naive_big_model_1_0_1_pgd_relu_20.jld2\", \"model_state\");\n",
    "# model_state = JLD2.load(\"car_adv20_model_1_0_0.1_pgd_relu_20.jld2\", \"model_state\");\n",
    "# model_state = JLD2.load(\"car_adv20_small_model_1_0_1_pgd_relu_20.jld2\", \"model_state\");\n",
    "# model_state = JLD2.load(\"car_adv20_big_model_1_0_1_pgd_relu_20.jld2\", \"model_state\");\n",
    "\n",
    "\n",
    "\n",
    "original_model = Chain(\n",
    "    Dense(3 => 16, relu),   # activation function inside layer\n",
    "    Dense(16 => 64, relu),   # activation function inside layer\n",
    "    Dense(64 => 16, relu),   # activation function inside layer\n",
    "    Dense(16 => 1)\n",
    ")\n",
    "\n",
    "# original_model = Chain(\n",
    "#     Dense(3 => 8, relu),   # activation function inside layer\n",
    "#     Dense(8 => 8, relu),   # activation function inside layer\n",
    "#     Dense(8 => 8, relu),   # activation function inside layer\n",
    "#     Dense(8 => 1)\n",
    "# )\n",
    "\n",
    "# original_model = Chain(\n",
    "#     Dense(3 => 64, relu),   # activation function inside layer\n",
    "#     Dense(64 => 128, relu),   # activation function inside layer\n",
    "#     Dense(128 => 64, relu),   # activation function inside layer\n",
    "#     Dense(64 => 1)\n",
    "# )\n",
    "\n",
    "Flux.loadmodel!(original_model, model_state);\n",
    "phi_model = original_model\n",
    "# find all the potential root region list, as hyperrectangles\n",
    "dx = 20\n",
    "dy = 20\n",
    "d_theta = 20\n",
    "α = 0.2\n",
    "sub_X_list = split(X, [dx, dy, d_theta])\n",
    "\n",
    "root_region_list = []\n",
    "for sub_X in sub_X_list\n",
    "    v_list = vertices_list(sub_X)\n",
    "    v_mat = cat(v_list..., dims=length(size(v_list[1])) + 1)\n",
    "    phi_v_sub = phi_model(v_mat)\n",
    "    (all(x -> x < 0, phi_v_sub) || all(x -> x > 0, phi_v_sub)) && continue\n",
    "    push!(root_region_list, sub_X)\n",
    "end\n",
    "@show length(root_region_list)\n",
    "\n",
    "function find_crown_bound(nn_model, batch_input)\n",
    "    solver = Crown(false, true, true, ModelVerification.zero_slope)\n",
    "    bound = ModelVerification.init_batch_bound(solver, batch_input, nothing)\n",
    "\n",
    "    for layer in nn_model\n",
    "        bound = ModelVerification.propagate_layer_batch(solver, layer, bound, nothing)\n",
    "        if isa(layer.σ, typeof(relu))\n",
    "            bound = ModelVerification.propagate_layer_batch(solver, relu, bound, nothing)\n",
    "        end\n",
    "    end\n",
    "    return ModelVerification.compute_bound(bound)\n",
    "end\n",
    "\n",
    "model = RobotZoo.DubinsCar()\n",
    "\n",
    "u_list = vertices_list(U)\n",
    "\n",
    "u_mat = cat(u_list..., dims=length(size(u_list[1])) + 1)\n",
    "violated_unknown_region_list = []\n",
    "\n",
    "@showprogress for root_region in root_region_list\n",
    "    verified_flag = false\n",
    "    x = root_region.center\n",
    "    already_hold_sub_region_list = []\n",
    "    union_all = nothing\n",
    "    for i in 1:size(u_mat)[2]\n",
    "        u = u_mat[:, i]\n",
    "        lower_w, upper_w, lower_b, upper_b = taylor_model(x, root_region.radius, model, u)\n",
    "        upper_bound = find_bounds(upper_w, upper_b, x .- root_region.radius, x .+ root_region.radius)[2]\n",
    "        lower_bound = find_bounds(lower_w, lower_b, x .- root_region.radius, x .+ root_region.radius)[1]\n",
    "        vertices_box_bounds_weight = hcat(lower_bound, upper_bound)'\n",
    "        upper_bound_phi = find_crown_bound(phi_model,[root_region])[2]\n",
    "        bias_cbf = -upper_bound_phi[1,1] .* α .* ones(size(vertices_box_bounds_weight)[1])\n",
    "        gradient_constraint = HPolyhedron(vertices_box_bounds_weight, bias_cbf)\n",
    "        search_method = BFS(max_iter=1000, batch_size=1) # for NNCB-IBP, let max_iter=1\n",
    "        split_method = Bisect(1) # must not use inherit_pre_bound\n",
    "        pre_bound_method = Crown(false, true, true, ModelVerification.zero_slope)\n",
    "        solver = VeriGrad(false, false, false, pre_bound_method, true, true, Flux.ADAM(0.1), 10, false)\n",
    "        problem = Problem(phi_model, root_region, gradient_constraint)\n",
    "        res = verify(search_method, split_method, solver, problem,verbose=false,collect_bound=true)\n",
    "        for j in eachindex(res.info[\"verified_bounds\"])\n",
    "            push!(already_hold_sub_region_list, Hyperrectangle(low = res.info[\"verified_bounds\"][j].batch_data_min[1:end-1, 1], high = res.info[\"verified_bounds\"][j].batch_data_max[1:end-1,1]))\n",
    "        end\n",
    "        if length(already_hold_sub_region_list) > 1\n",
    "            union_all = UnionSetArray([already_hold_sub_region_list[i] for i in eachindex(already_hold_sub_region_list)])\n",
    "        else\n",
    "            if length(already_hold_sub_region_list) > 0\n",
    "                union_all = already_hold_sub_region_list[1]\n",
    "            end\n",
    "        end\n",
    "        if (res.status == :holds) || ((length(already_hold_sub_region_list) > 0 && (root_region ⊆ union_all)))\n",
    "            verified_flag = true\n",
    "            break\n",
    "        end\n",
    "    end\n",
    "    verified_flag || push!(violated_unknown_region_list, root_region)\n",
    "end\n",
    "@show length(violated_unknown_region_list)\n",
    "@show suc_rate = (length(root_region_list) - length(violated_unknown_region_list)) / length(root_region_list)"
   ]
  },
  {
   "cell_type": "code",
   "execution_count": 22,
   "id": "5a50cebc-4cfc-475d-8624-863021e1bdfc",
   "metadata": {},
   "outputs": [
    {
     "name": "stdout",
     "output_type": "stream",
     "text": [
      "length(root_region_list) = 12600\n"
     ]
    },
    {
     "name": "stderr",
     "output_type": "stream",
     "text": [
      "\u001b[32mProgress: 100%|█████████████████████████████████████████| Time: 0:02:54\u001b[39m\n"
     ]
    },
    {
     "name": "stdout",
     "output_type": "stream",
     "text": [
      "length(violated_unknown_region_list) = 593\n",
      "suc_rate = (length(root_region_list) - length(violated_unknown_region_list)) / length(root_region_list) = 0.952936507936508\n"
     ]
    },
    {
     "data": {
      "text/plain": [
       "0.952936507936508"
      ]
     },
     "execution_count": 22,
     "metadata": {},
     "output_type": "execute_result"
    }
   ],
   "source": [
    "# For ours\n",
    "include(\"affine_dynamics.jl\")\n",
    "include(\"dataset.jl\")\n",
    "include(\"visualize.jl\")\n",
    "\n",
    "\n",
    "model_state = JLD2.load(\"car_naive_model_1_0_0.1_pgd_relu_20.jld2\", \"model_state\");\n",
    "# model_state = JLD2.load(\"car_naive_small_model_1_0_1_pgd_relu_20.jld2\", \"model_state\");\n",
    "# model_state = JLD2.load(\"car_naive_big_model_1_0_1_pgd_relu_20.jld2\", \"model_state\");\n",
    "# model_state = JLD2.load(\"car_adv20_model_1_0_0.1_pgd_relu_20.jld2\", \"model_state\");\n",
    "# model_state = JLD2.load(\"car_adv20_small_model_1_0_1_pgd_relu_20.jld2\", \"model_state\");\n",
    "# model_state = JLD2.load(\"car_adv20_big_model_1_0_1_pgd_relu_20.jld2\", \"model_state\");\n",
    "\n",
    "\n",
    "original_model = Chain(\n",
    "    Dense(3 => 16, relu),   # activation function inside layer\n",
    "    Dense(16 => 64, relu),   # activation function inside layer\n",
    "    Dense(64 => 16, relu),   # activation function inside layer\n",
    "    Dense(16 => 1)\n",
    ")\n",
    "\n",
    "# original_model = Chain(\n",
    "#     Dense(3 => 8, relu),   # activation function inside layer\n",
    "#     Dense(8 => 8, relu),   # activation function inside layer\n",
    "#     Dense(8 => 8, relu),   # activation function inside layer\n",
    "#     Dense(8 => 1)\n",
    "# )\n",
    "\n",
    "# original_model = Chain(\n",
    "#     Dense(3 => 64, relu),   # activation function inside layer\n",
    "#     Dense(64 => 128, relu),   # activation function inside layer\n",
    "#     Dense(128 => 64, relu),   # activation function inside layer\n",
    "#     Dense(64 => 1)\n",
    "# )\n",
    "\n",
    "Flux.loadmodel!(original_model, model_state);\n",
    "phi_model = original_model\n",
    "# find all the potential root region list, as hyperrectangles\n",
    "dx = 100\n",
    "dy = 100\n",
    "d_theta = 100\n",
    "α = 0.5\n",
    "sub_X_list = split(X, [dx, dy, d_theta])\n",
    "\n",
    "root_region_list = []\n",
    "for sub_X in sub_X_list\n",
    "    v_list = vertices_list(sub_X)\n",
    "    v_mat = cat(v_list..., dims=length(size(v_list[1])) + 1)\n",
    "    phi_v_sub = phi_model(v_mat)\n",
    "    (all(x -> x < 0, phi_v_sub) || all(x -> x > 0, phi_v_sub)) && continue\n",
    "    push!(root_region_list, sub_X)\n",
    "end\n",
    "@show length(root_region_list)\n",
    "\n",
    "\n",
    "model = RobotZoo.DubinsCar()\n",
    "\n",
    "u_list = vertices_list(U)\n",
    "u_mat = cat(u_list..., dims=length(size(u_list[1])) + 1)\n",
    "violated_unknown_region_list = []\n",
    "@showprogress for root_region in root_region_list\n",
    "    verified_flag = false\n",
    "    x = root_region.center\n",
    "    already_hold_sub_region_list = []\n",
    "    union_all = nothing\n",
    "    for i in 1:size(u_mat)[2]\n",
    "        u = u_mat[:, i]\n",
    "        lower_w, upper_w, lower_b, upper_b = taylor_model(x, root_region.radius, model, u)\n",
    "        gradient_constraint = HPolyhedron(ones(1, 3), zeros(1))\n",
    "        search_method = BFS(max_iter=1, batch_size=1)\n",
    "        split_method = Bisect(1) # must not use inherit_pre_bound\n",
    "        pre_bound_method = Crown(false, true, true, ModelVerification.zero_slope)\n",
    "        solver = VeriGrad(false, false, false, pre_bound_method, true, true, Flux.ADAM(0.1), 10, false,[lower_w, upper_w, lower_b, upper_b, RobotDynamics.dynamics(model, x, u),α])\n",
    "        problem = Problem(phi_model, root_region, gradient_constraint)\n",
    "        res = verify(search_method, split_method, solver, problem,verbose=false,collect_bound=true)\n",
    "        for j in eachindex(res.info[\"verified_bounds\"])\n",
    "            push!(already_hold_sub_region_list, Hyperrectangle(low = res.info[\"verified_bounds\"][j].batch_data_min[1:end-1, 1], high = res.info[\"verified_bounds\"][j].batch_data_max[1:end-1,1]))\n",
    "        end\n",
    "        if length(already_hold_sub_region_list) > 1\n",
    "            union_all = UnionSetArray([already_hold_sub_region_list[i] for i in eachindex(already_hold_sub_region_list)])\n",
    "        else\n",
    "            if length(already_hold_sub_region_list) > 0\n",
    "                union_all = already_hold_sub_region_list[1]\n",
    "            end\n",
    "        end\n",
    "        if (res.status == :holds) || ((length(already_hold_sub_region_list) > 0 && (root_region ⊆ union_all)))\n",
    "            verified_flag = true\n",
    "            break\n",
    "        end\n",
    "    end\n",
    "    verified_flag || push!(violated_unknown_region_list, root_region)\n",
    "end\n",
    "@show length(violated_unknown_region_list)\n",
    "@show suc_rate = (length(root_region_list) - length(violated_unknown_region_list)) / length(root_region_list)"
   ]
  }
 ],
 "metadata": {
  "kernelspec": {
   "display_name": "Julia 1.9.4",
   "language": "julia",
   "name": "julia-1.9"
  },
  "language_info": {
   "file_extension": ".jl",
   "mimetype": "application/julia",
   "name": "julia",
   "version": "1.9.4"
  }
 },
 "nbformat": 4,
 "nbformat_minor": 5
}
