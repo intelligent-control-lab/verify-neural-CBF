{
 "cells": [
  {
   "cell_type": "code",
   "execution_count": null,
   "id": "fe13a809",
   "metadata": {},
   "outputs": [],
   "source": [
    "using Revise\n",
    "using LazySets\n",
    "using DifferentialEquations\n",
    "using LazySets\n",
    "using ProgressMeter\n",
    "using ProgressBars\n",
    "using JLD2\n",
    "using Flux\n",
    "using LinearAlgebra\n",
    "using ReverseDiff\n",
    "using Plots\n",
    "using Statistics\n",
    "using Optimisers, ParameterSchedulers\n",
    "using ModelVerification\n",
    "using ONNXNaiveNASflux, NaiveNASflux, .NaiveNASlib\n"
   ]
  },
  {
   "cell_type": "code",
   "execution_count": 2,
   "id": "76611655",
   "metadata": {},
   "outputs": [],
   "source": [
    "using CUDA\n",
    "\n",
    "# Check if GPU is available\n",
    "if CUDA.functional()\n",
    "    device!(2)\n",
    "    CUDA.allowscalar(false)  # Disallow scalar operations on the GPU (optional)\n",
    "else\n",
    "    println(\"GPU is not available. Using CPU.\")\n",
    "end"
   ]
  },
  {
   "cell_type": "code",
   "execution_count": 3,
   "id": "69e68c40",
   "metadata": {},
   "outputs": [
    {
     "data": {
      "text/plain": [
       "4×2 Matrix{Float64}:\n",
       " 0.0  0.0\n",
       " 0.0  0.0\n",
       " 1.0  0.0\n",
       " 0.0  1.0"
      ]
     },
     "execution_count": 3,
     "metadata": {},
     "output_type": "execute_result"
    }
   ],
   "source": [
    "include(\"affine_dynamics.jl\")\n",
    "include(\"dataset.jl\")\n",
    "X = Hyperrectangle(low = [0, 0, -1, -1], high = [4,4, 1, 1])\n",
    "U = Hyperrectangle(low = [-1, -1], high = [1,1])\n",
    "X_unsafe = Hyperrectangle(low = [1.5, 0, -1, -1], high = [2.5,2, 1, 1])\n",
    "\n",
    "A = [0. 0 1 0;\n",
    "    0 0 0 1;\n",
    "    0 0 0 0;\n",
    "    0 0 0 0;]\n",
    "B = [0. 0;\n",
    "    0 0;\n",
    "    1 0;\n",
    "    0 1;]"
   ]
  },
  {
   "cell_type": "code",
   "execution_count": 4,
   "id": "8e747729",
   "metadata": {},
   "outputs": [
    {
     "data": {
      "text/plain": [
       "find_bounds (generic function with 1 method)"
      ]
     },
     "execution_count": 4,
     "metadata": {},
     "output_type": "execute_result"
    }
   ],
   "source": [
    "using TaylorModels\n",
    "import RobotDynamics\n",
    "myTaylorModelN(nv::Integer, ord::Integer, x0::IntervalBox{N,T}, dom::IntervalBox{N,T},vars::Vector) where {N,T} =\n",
    "    TaylorModelN(x0[nv] + vars[nv], zero(dom[1]), x0, dom)\n",
    "function taylor_model(center, radius, model, u)\n",
    "    _dim = length(center)\n",
    "    point = IntervalBox([interval(center[i]) for i in 1:_dim])\n",
    "    region = IntervalBox([(center[i].-radius[i])..(center[i].+radius[i]) for i in 1:_dim])\n",
    "    \n",
    "    var = set_variables(\"x\", numvars=_dim, order=1)\n",
    "    taylor_var = [myTaylorModelN(i,1, point,region,var) for i in 1:_dim]\n",
    "    taylor_var = [TaylorModels.TaylorModelN(i,1, point,region) for i in 1:_dim]\n",
    "\n",
    "    dyn_x = RobotDynamics.dynamics(model, taylor_var, u)\n",
    "    lower_w = zeros(_dim, _dim)\n",
    "    upper_w = zeros(_dim, _dim)\n",
    "    lower_b = zeros(_dim,1)\n",
    "    upper_b = zeros(_dim,1)\n",
    "    for i in 1:_dim\n",
    "        if isa(dyn_x[i], TaylorModelN)\n",
    "            for j in 1:_dim\n",
    "                lower_w[i, j] = inf(polynomial(dyn_x[i])[1][j])\n",
    "                upper_w[i, j] = sup(polynomial(dyn_x[i])[1][j])\n",
    "            end\n",
    "            lower_b[i, 1] = inf(polynomial(dyn_x[i])[0][1]) + inf(remainder(dyn_x[i])) - sum([lower_w[i, j] .* center[j] for j in 1:_dim])\n",
    "            upper_b[i, 1] = sup(polynomial(dyn_x[i])[0][1]) + sup(remainder(dyn_x[i])) - sum([upper_w[i, j] .* center[j] for j in 1:_dim])\n",
    "        else\n",
    "            lower_b[i, 1] = dyn_x[i]\n",
    "            upper_b[i, 1] = dyn_x[i]\n",
    "        end      \n",
    "    end\n",
    "    return lower_w, upper_w, lower_b, upper_b\n",
    "end\n",
    "\n",
    "function find_bounds(w, b, lower_x, upper_x)\n",
    "    lower_x = reshape(lower_x, size(b))\n",
    "    upper_x = reshape(upper_x, size(b))\n",
    "    low = clamp.(w, 0, Inf) * lower_x + clamp.(w, -Inf, 0) * upper_x + b\n",
    "    up = clamp.(w, 0, Inf) * upper_x + clamp.(w, -Inf, 0) * lower_x + b\n",
    "    return low, up\n",
    "end"
   ]
  },
  {
   "cell_type": "code",
   "execution_count": 39,
   "id": "a15cf0b2",
   "metadata": {},
   "outputs": [
    {
     "name": "stdout",
     "output_type": "stream",
     "text": [
      "length(root_region_list) = 15161\n"
     ]
    },
    {
     "name": "stderr",
     "output_type": "stream",
     "text": [
      "\u001b[32mProgress: 100%|█████████████████████████████████████████| Time: 1:21:32\u001b[39m\n"
     ]
    },
    {
     "name": "stdout",
     "output_type": "stream",
     "text": [
      "length(violated_unknown_region_list) = 9591\n",
      "suc_rate = (length(root_region_list) - length(violated_unknown_region_list)) / length(root_region_list) = 0.3673900138513291\n"
     ]
    },
    {
     "data": {
      "text/plain": [
       "0.3673900138513291"
      ]
     },
     "execution_count": 39,
     "metadata": {},
     "output_type": "execute_result"
    }
   ],
   "source": [
    "# for BBV baseline\n",
    "include(\"affine_dynamics.jl\")\n",
    "include(\"dataset.jl\")\n",
    "include(\"visualize.jl\")\n",
    "\n",
    "\n",
    "# model_state = JLD2.load(\"point_adv20_small_model_1_0_0.1_pgd_relu_20.jld2\", \"model_state\");\n",
    "# model_state = JLD2.load(\"point_naive_model_1_0_0.1_pgd_relu_20.jld2\", \"model_state\");\n",
    "# model_state = JLD2.load(\"point_naive_small_model_1_0_0.1_pgd_relu_20.jld2\", \"model_state\");\n",
    "model_state = JLD2.load(\"point_adv20_model_1_0_1_pgd_relu_12.jld2\", \"model_state\");\n",
    "\n",
    "original_model = Chain(\n",
    "    Dense(4 => 16, relu),   # activation function inside layer\n",
    "    Dense(16 => 64, relu),   # activation function inside layer\n",
    "    Dense(64 => 16, relu),   # activation function inside layer\n",
    "    Dense(16 => 1)\n",
    ")\n",
    "\n",
    "# original_model = Chain(\n",
    "#     Dense(4 => 8, relu),   # activation function inside layer\n",
    "#     Dense(8 => 8, relu),   # activation function inside layer\n",
    "#     Dense(8 => 8, relu),   # activation function inside layer\n",
    "#     Dense(8 => 1)\n",
    "# )\n",
    "\n",
    "Flux.loadmodel!(original_model, model_state);\n",
    "phi_model = original_model\n",
    "# find all the potential root region list, as hyperrectangles\n",
    "dx = 20\n",
    "dy = 20\n",
    "dvx = 20\n",
    "dvy = 20\n",
    "sub_X_list = split(X, [dx, dy, dvx, dvy])\n",
    "root_region_list = []\n",
    "for sub_X in sub_X_list\n",
    "    v_list = vertices_list(sub_X)\n",
    "    v_mat = cat(v_list..., dims=length(size(v_list[1])) + 1)\n",
    "    phi_v_sub = phi_model(v_mat)\n",
    "    (all(x -> x < 0, phi_v_sub) || all(x -> x > 0, phi_v_sub)) && continue\n",
    "    push!(root_region_list, sub_X)\n",
    "end\n",
    "\n",
    "α = 0.5\n",
    "function find_crown_bound(nn_model, batch_input)\n",
    "    solver = Crown(false, true, true, ModelVerification.zero_slope)\n",
    "    bound = ModelVerification.init_batch_bound(solver, batch_input, nothing)\n",
    "    for layer in nn_model\n",
    "        bound = ModelVerification.propagate_layer_batch(solver, layer, bound, nothing)\n",
    "        if isa(layer.σ, typeof(relu))\n",
    "            bound = ModelVerification.propagate_layer_batch(solver, relu, bound, nothing)\n",
    "        end\n",
    "    end\n",
    "\n",
    "    return ModelVerification.compute_bound(bound)\n",
    "end\n",
    "\n",
    "\n",
    "@show length(root_region_list)\n",
    "u_list = vertices_list(U)\n",
    "u_mat = cat(u_list..., dims=length(size(u_list[1])) + 1)\n",
    "violated_unknown_region_list = []\n",
    "@showprogress for root_region in root_region_list\n",
    "    x_root_vertice_list = vertices_list(root_region)\n",
    "    x_root_vertice_mat = cat(x_root_vertice_list..., dims=length(size(x_root_vertice_list[1])) + 1)\n",
    "    verified_flag = false\n",
    "    for i in 1:size(u_mat)[2]\n",
    "        u = u_mat[:, i]\n",
    "        vertices_box_bounds_weight = broadcast(+,unique(A * x_root_vertice_mat, dims=2),B *u)' \n",
    "        upper_bound_phi = find_crown_bound(phi_model,[root_region])[2]\n",
    "        bias_cbf = -upper_bound_phi[1,1] .* α .* ones(size(vertices_box_bounds_weight)[1])\n",
    "        gradient_constraint = HPolyhedron(vertices_box_bounds_weight, bias_cbf)\n",
    "        search_method = BFS(max_iter=1000, batch_size=1)\n",
    "        split_method = Bisect(1) # must not use inherit_pre_bound\n",
    "        pre_bound_method = Crown(false, true, true, ModelVerification.zero_slope)\n",
    "        solver = VeriGrad(false, false, false, pre_bound_method, true, true, Flux.ADAM(0.1), 10, false)\n",
    "        problem = Problem(phi_model, root_region, gradient_constraint)\n",
    "        res = verify(search_method, split_method, solver, problem)\n",
    "        if res.status == :holds \n",
    "            verified_flag = true\n",
    "            break\n",
    "        end\n",
    "    end\n",
    "    verified_flag || push!(violated_unknown_region_list, root_region)\n",
    "end\n",
    "@show length(violated_unknown_region_list)\n",
    "@show suc_rate = (length(root_region_list) - length(violated_unknown_region_list)) / length(root_region_list)"
   ]
  },
  {
   "cell_type": "code",
   "execution_count": 42,
   "id": "8d89c9cb-0c82-4754-a610-de46d075133e",
   "metadata": {},
   "outputs": [
    {
     "name": "stdout",
     "output_type": "stream",
     "text": [
      "length(root_region_list) = 15161\n"
     ]
    },
    {
     "name": "stderr",
     "output_type": "stream",
     "text": [
      "\u001b[32mProgress: 100%|█████████████████████████████████████████| Time: 1:44:36\u001b[39m\n"
     ]
    },
    {
     "name": "stdout",
     "output_type": "stream",
     "text": [
      "length(violated_unknown_region_list) = 9327\n",
      "suc_rate = (length(root_region_list) - length(violated_unknown_region_list)) / length(root_region_list) = 0.38480311325110483\n"
     ]
    },
    {
     "data": {
      "text/plain": [
       "0.38480311325110483"
      ]
     },
     "execution_count": 42,
     "metadata": {},
     "output_type": "execute_result"
    }
   ],
   "source": [
    "# for ours\n",
    "include(\"affine_dynamics.jl\")\n",
    "include(\"dataset.jl\")\n",
    "include(\"visualize.jl\")\n",
    "\n",
    "# model_state = JLD2.load(\"point_adv20_small_model_1_0_0.1_pgd_relu_20.jld2\", \"model_state\");\n",
    "# model_state = JLD2.load(\"point_naive_model_1_0_0.1_pgd_relu_20.jld2\", \"model_state\");\n",
    "# model_state = JLD2.load(\"point_naive_small_model_1_0_0.1_pgd_relu_20.jld2\", \"model_state\");\n",
    "model_state = JLD2.load(\"point_adv20_model_1_0_1_pgd_relu_12.jld2\", \"model_state\");\n",
    "\n",
    "\n",
    "original_model = Chain(\n",
    "    Dense(4 => 16, relu),   # activation function inside layer\n",
    "    Dense(16 => 64, relu),   # activation function inside layer\n",
    "    Dense(64 => 16, relu),   # activation function inside layer\n",
    "    Dense(16 => 1)\n",
    ")\n",
    "\n",
    "# original_model = Chain(\n",
    "#     Dense(4 => 8, relu),   # activation function inside layer\n",
    "#     Dense(8 => 8, relu),   # activation function inside layer\n",
    "#     Dense(8 => 8, relu),   # activation function inside layer\n",
    "#     Dense(8 => 1)\n",
    "# )\n",
    "\n",
    "Flux.loadmodel!(original_model, model_state);\n",
    "phi_model = original_model\n",
    "# find all the potential root region list, as hyperrectangles\n",
    "dx = 20\n",
    "dy = 20\n",
    "dvx = 20\n",
    "dvy = 20\n",
    "α = 1\n",
    "sub_X_list = split(X, [dx, dy, dvx, dvy])\n",
    "\n",
    "root_region_list = []\n",
    "for sub_X in sub_X_list\n",
    "    v_list = vertices_list(sub_X)\n",
    "    v_mat = cat(v_list..., dims=length(size(v_list[1])) + 1)\n",
    "    phi_v_sub = phi_model(v_mat)\n",
    "    (all(x -> x < 0, phi_v_sub) || all(x -> x > 0, phi_v_sub)) && continue\n",
    "    push!(root_region_list, sub_X)\n",
    "end\n",
    "@show length(root_region_list)\n",
    "\n",
    "model = RobotZoo.DoubleIntegrator(2)\n",
    "\n",
    "u_list = vertices_list(U)\n",
    "u_mat = cat(u_list..., dims=length(size(u_list[1])) + 1)\n",
    "violated_unknown_region_list = []\n",
    "@showprogress for root_region in root_region_list\n",
    "    verified_flag = false\n",
    "    x = root_region.center\n",
    "    for i in 1:size(u_mat)[2]\n",
    "        u = u_mat[:, i]\n",
    "        lower_w, upper_w, lower_b, upper_b = taylor_model(x, root_region.radius, model, u)\n",
    "        gradient_constraint = HPolyhedron(ones(1, 4), zeros(1)) \n",
    "        search_method = BFS(max_iter=1000, batch_size=1)\n",
    "        split_method = Bisect(1) # must not use inherit_pre_bound\n",
    "        pre_bound_method = Crown(false, true, true, ModelVerification.zero_slope)\n",
    "        solver = VeriGrad(false, false, false, pre_bound_method, true, true, Flux.ADAM(0.1), 10, false, [lower_w, upper_w, lower_b, upper_b, RobotDynamics.dynamics(model, x, u), α])\n",
    "        problem = Problem(phi_model, root_region, gradient_constraint)\n",
    "        res = verify(search_method, split_method, solver, problem)\n",
    "        if res.status == :holds \n",
    "            verified_flag = true\n",
    "            break\n",
    "        end\n",
    "    end\n",
    "    verified_flag || push!(violated_unknown_region_list, root_region)\n",
    "end\n",
    "@show length(violated_unknown_region_list)\n",
    "@show suc_rate = (length(root_region_list) - length(violated_unknown_region_list)) / length(root_region_list)"
   ]
  }
 ],
 "metadata": {
  "kernelspec": {
   "display_name": "Julia 1.9.4",
   "language": "julia",
   "name": "julia-1.9"
  },
  "language_info": {
   "file_extension": ".jl",
   "mimetype": "application/julia",
   "name": "julia",
   "version": "1.9.4"
  }
 },
 "nbformat": 4,
 "nbformat_minor": 5
}
