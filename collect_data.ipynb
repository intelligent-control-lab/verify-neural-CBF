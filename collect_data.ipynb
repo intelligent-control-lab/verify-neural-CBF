{
 "cells": [
  {
   "cell_type": "code",
   "execution_count": 1,
   "id": "bbca90f0",
   "metadata": {},
   "outputs": [],
   "source": [
    "using Revise\n",
    "using LazySets\n",
    "using DifferentialEquations\n",
    "using LazySets\n",
    "using ProgressMeter\n",
    "using ProgressBars\n",
    "using JLD2\n",
    "using Flux\n",
    "using LinearAlgebra\n",
    "using Zygote\n",
    "using ReverseDiff\n",
    "using Plots\n",
    "using Statistics\n",
    "using Optimisers, ParameterSchedulers\n",
    "using RobotDynamics\n",
    "using RobotZoo\n",
    "using Random\n",
    "using Rotations"
   ]
  },
  {
   "cell_type": "code",
   "execution_count": 3,
   "id": "eda60602",
   "metadata": {},
   "outputs": [
    {
     "data": {
      "text/plain": [
       "generate_random_traj (generic function with 1 method)"
      ]
     },
     "execution_count": 3,
     "metadata": {},
     "output_type": "execute_result"
    }
   ],
   "source": [
    "using RobotZoo\n",
    "import RobotDynamics as RD\n",
    "\n",
    "function random_point_in_hyperrectangle(hyperrectangle::Hyperrectangle, non_admissible_area=nothing;q=false)\n",
    "    dimensions = dim(hyperrectangle)\n",
    "    random_point = zeros(dimensions)\n",
    "    for i in 1:dimensions\n",
    "        random_point[i] = rand() * (high(hyperrectangle, i)-low(hyperrectangle, i)) + low(hyperrectangle, i)\n",
    "    end\n",
    "    if q\n",
    "        model = RobotZoo.Quadrotor()\n",
    "        x,u = rand(model)\n",
    "        random_point[4:7] .= x[4:7]\n",
    "    end\n",
    "    isnothing(non_admissible_area) && return random_point, true\n",
    "    (random_point ∉ non_admissible_area) && return random_point, true\n",
    "    return random_point, false\n",
    "end\n",
    "\n",
    "function generate_Xref(dmodel, x_0, dt, T, X, X_unsafe, U; max_u=10000,euler=false)\n",
    "    n_steps = Int(floor(T / dt))\n",
    "    Uref = []\n",
    "    Xref = []\n",
    "    push!(Xref, x_0)\n",
    "    for i in 1:n_steps\n",
    "        u = nothing\n",
    "        x = Xref[end]\n",
    "        x′ = nothing\n",
    "        feasible = false\n",
    "        for j in 1:max_u\n",
    "            u, _ = random_point_in_hyperrectangle(U)\n",
    "            if euler\n",
    "                f(x, p, t) = quadrotor_dynamics_euler!(x, u)\n",
    "                tspan = (0.0, dt)\n",
    "                prob = ODEProblem(f , x, tspan)\n",
    "                sol = solve(prob, Tsit5(), reltol = 1e-8, abstol = 1e-8)\n",
    "                x′ = sol[end]\n",
    "            else\n",
    "                x′ = RD.discrete_dynamics(dmodel, x, u, 0.0, dt)\n",
    "            end\n",
    "            if (x′ ∉ X_unsafe) && (x′ ∈ X)\n",
    "                feasible = true\n",
    "                break\n",
    "            end\n",
    "        end\n",
    "        if !feasible\n",
    "            (length(Uref)==1) && (return Xref, Uref)\n",
    "            (length(Xref)==1) && (return Xref, Uref)\n",
    "            pop!(Xref)\n",
    "            pop!(Uref)\n",
    "            continue\n",
    "        end\n",
    "        push!(Xref, x′)\n",
    "        push!(Uref, u)\n",
    "    end\n",
    "    return Xref, Uref\n",
    "end\n",
    "\n",
    "function generate_random_traj(dmodel, num, dt, T,X, X_unsafe, U;q=false,euler=false)\n",
    "    Xrefs = []\n",
    "    Urefs = []\n",
    "    @showprogress for i = 1:num\n",
    "        x_0 = nothing\n",
    "        while true\n",
    "            x_0, safe_flag = random_point_in_hyperrectangle(X, X_unsafe;q=q)\n",
    "            safe_flag && break\n",
    "        end\n",
    "        \n",
    "        Xref, Uref = generate_Xref(dmodel, x_0, dt, T, X, X_unsafe, U;euler=euler)\n",
    "        push!(Xrefs, Xref)\n",
    "        push!(Urefs, Uref)\n",
    "    end\n",
    "    return Xrefs, Urefs\n",
    "end\n",
    "\n"
   ]
  },
  {
   "cell_type": "code",
   "execution_count": 5,
   "id": "0182cac5",
   "metadata": {},
   "outputs": [
    {
     "data": {
      "text/plain": [
       "plot_function (generic function with 1 method)"
      ]
     },
     "execution_count": 5,
     "metadata": {},
     "output_type": "execute_result"
    }
   ],
   "source": [
    "function plot_function(Xrefs; n_ignore=50,q=false)\n",
    "    # p = plot()\n",
    "    plt1 = plot(Hyperrectangle(low=low(X)[1:2], high=high(X)[1:2]))\n",
    "    plot!(plt1, Hyperrectangle(low=low(X_unsafe)[1:2], high=high(X_unsafe)[1:2]), fillcolor=:red)\n",
    "#     @show length(Xrefs), length(Urefs[1])\n",
    "    valid_num = 0\n",
    "    for k = 1:length(Xrefs)\n",
    "        if length(Urefs[k])<n_ignore+1\n",
    "            continue\n",
    "        end\n",
    "#         @show length(Urefs[k]), length(Xrefs[k])\n",
    "        @assert length(Urefs[k]) == (length(Xrefs[k]) - 1) \n",
    "        \n",
    "        xs = [Xrefs[k][i][1] for i in 1:length(Urefs[k])-n_ignore]\n",
    "        ys = [Xrefs[k][i][2] for i in 1:length(Urefs[k])-n_ignore]\n",
    "        # @show length(xs)\n",
    "        if q\n",
    "            zs = [Xrefs[k][i][3] for i in 1:length(Urefs[k])-n_ignore]\n",
    "            plot!(xs, ys,zs, legend = false)\n",
    "        else\n",
    "            plot!(xs, ys, legend = false)\n",
    "        end\n",
    "        valid_num += length(Urefs[k]) - n_ignore\n",
    "    end\n",
    "    display(plt1)\n",
    "    @show valid_num\n",
    "end"
   ]
  },
  {
   "cell_type": "code",
   "execution_count": 6,
   "id": "c6a7591c",
   "metadata": {},
   "outputs": [
    {
     "data": {
      "text/plain": [
       "build_dataset (generic function with 1 method)"
      ]
     },
     "execution_count": 6,
     "metadata": {},
     "output_type": "execute_result"
    }
   ],
   "source": [
    "function build_dataset(name, Xrefs, Urefs, X, X_unsafe, U; n_ignore=50,q=false)\n",
    "    data = []\n",
    "    for k = 1:length(Xrefs)\n",
    "        if length(Urefs[k]) < n_ignore+1\n",
    "            continue\n",
    "        end\n",
    "        for i in 1:length(Urefs[k])-n_ignore\n",
    "            push!(data, [Xrefs[k][i], Urefs[k][i],[true]]) # safe and persistently feasible\n",
    "        end\n",
    "    end\n",
    "    n_safe = Int(floor(length(data)*0.8))\n",
    "    for i in 1:n_safe\n",
    "        random_x0, safe_flag = random_point_in_hyperrectangle(X_unsafe, X_unsafe;q=q)\n",
    "        random_u0, _ = random_point_in_hyperrectangle(U)\n",
    "        @assert safe_flag==false\n",
    "        push!(data, [random_x0, random_u0, [safe_flag]])\n",
    "    end\n",
    "    \n",
    "    data = reduce(hcat,data)\n",
    "    shuffled_indices = shuffle(1:size(data, 2))\n",
    "    data = data[:, shuffled_indices]\n",
    "    training_data = data[:, 1:end-10000]\n",
    "    test_data = data[:, end-10000:end]\n",
    "    save_object(name*\"_training_data.jld2\", training_data)\n",
    "    save_object(name*\"_test_data.jld2\", test_data)\n",
    "end"
   ]
  },
  {
   "cell_type": "code",
   "execution_count": null,
   "id": "210a6468",
   "metadata": {},
   "outputs": [],
   "source": [
    "\n",
    "dyn_model = RobotZoo.PlanarQuadrotor()\n",
    "n,m = RD.dims(dyn_model)\n",
    "# @show n,m\n",
    "dmodel = RD.DiscretizedDynamics{RD.RK4}(dyn_model)\n",
    "# @show dmodel\n",
    "\n",
    "X = Hyperrectangle(low = [0, 0, -0.1, -1, -1 ,-1], high = [4,4, 0.1, 1,1,1])\n",
    "U = Hyperrectangle(low = [4, 4], high = [6,6])\n",
    "X_unsafe = Hyperrectangle(low = [1.5, 0,-0.1,-1, -1 ,-1], high = [2.5,2, 0.1, 1,1,1])\n",
    "\n",
    "\n",
    "Xrefs, Urefs = generate_random_traj(dmodel, 500000, 0.1, 10, X, X_unsafe, U);\n",
    "plot_function(Xrefs)\n",
    "build_dataset(\"planarquad\", Xrefs, Urefs, X, X_unsafe, U)"
   ]
  },
  {
   "cell_type": "code",
   "execution_count": null,
   "id": "1618bc63",
   "metadata": {},
   "outputs": [],
   "source": [
    "\n",
    "dyn_model = RobotZoo.DubinsCar()\n",
    "n,m = RD.dims(dyn_model)\n",
    "dmodel = RD.DiscretizedDynamics{RD.RK4}(dyn_model)\n",
    "\n",
    "X = Hyperrectangle(low = [0, 0, 0], high = [4,4, π])\n",
    "U = Hyperrectangle(low = [-1, -1], high = [1,1])\n",
    "X_unsafe = Hyperrectangle(low = [1.5, 0,0], high = [2.5,2, π])\n",
    "\n",
    "\n",
    "Xrefs, Urefs = generate_random_traj(dmodel, 50000, 0.1, 10, X, X_unsafe, U);\n",
    "plot_function(Xrefs)\n",
    "build_dataset(\"car\", Xrefs, Urefs, X, X_unsafe, U)"
   ]
  },
  {
   "cell_type": "code",
   "execution_count": null,
   "id": "22d65232",
   "metadata": {},
   "outputs": [],
   "source": [
    "\n",
    "dyn_model = RobotZoo.DoubleIntegrator(2)\n",
    "n,m = RD.dims(dyn_model)\n",
    "dmodel = RD.DiscretizedDynamics{RD.RK4}(dyn_model)\n",
    "\n",
    "X = Hyperrectangle(low = [0, 0, -1, -1], high = [4,4, 1, 1])\n",
    "U = Hyperrectangle(low = [-1, -1], high = [1,1])\n",
    "X_unsafe = Hyperrectangle(low = [1.5, 0, -1, -1], high = [2.5,2, 1, 1])\n",
    "\n",
    "\n",
    "\n",
    "Xrefs, Urefs = generate_random_traj(dmodel, 500000, 0.1, 10, X, X_unsafe, U);\n",
    "# plot_function(Xrefs)\n",
    "build_dataset(\"point\", Xrefs, Urefs, X, X_unsafe, U)"
   ]
  }
 ],
 "metadata": {
  "kernelspec": {
   "display_name": "Julia 1.9.4",
   "language": "julia",
   "name": "julia-1.9"
  },
  "language_info": {
   "file_extension": ".jl",
   "mimetype": "application/julia",
   "name": "julia",
   "version": "1.9.4"
  }
 },
 "nbformat": 4,
 "nbformat_minor": 5
}
